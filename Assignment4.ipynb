{
 "cells": [
  {
   "cell_type": "code",
   "execution_count": 1,
   "metadata": {},
   "outputs": [],
   "source": [
    "import numpy as np\n",
    "import scipy as sp\n",
    "import pandas as pd\n",
    "import us\n",
    "import matplotlib as mpl\n",
    "import matplotlib.pyplot as plt\n",
    "%matplotlib inline\n"
   ]
  },
  {
   "cell_type": "code",
   "execution_count": 2,
   "metadata": {},
   "outputs": [],
   "source": [
    "read1=pd.read_csv(\"https://earthquake.usgs.gov/fdsnws/event/1/query?format=csv&starttime=2016-01-01&endtime=2016-12-31&minmagnitude=4&limit=20000\")\n",
    "read2=pd.read_csv(\"https://earthquake.usgs.gov/fdsnws/event/1/query?format=csv&starttime=2017-01-01&endtime=2017-12-31&minmagnitude=4&limit=20000\")\n",
    "read3=pd.read_csv(\"https://earthquake.usgs.gov/fdsnws/event/1/query?format=csv&starttime=2018-01-01&endtime=2018-12-31&minmagnitude=4&limit=20000\")\n",
    "read4=pd.read_csv(\"https://earthquake.usgs.gov/fdsnws/event/1/query?format=csv&starttime=2019-01-01&endtime=2019-10-01&minmagnitude=4&limit=20000\")\n",
    "df= pd.concat([read1,read2,read3,read4],axis=0)"
   ]
  },
  {
   "cell_type": "markdown",
   "metadata": {},
   "source": [
    " question 1: Use describe to get the basic statistics of all the columns "
   ]
  },
  {
   "cell_type": "code",
   "execution_count": 3,
   "metadata": {
    "scrolled": false
   },
   "outputs": [
    {
     "data": {
      "text/html": [
       "<div>\n",
       "<style scoped>\n",
       "    .dataframe tbody tr th:only-of-type {\n",
       "        vertical-align: middle;\n",
       "    }\n",
       "\n",
       "    .dataframe tbody tr th {\n",
       "        vertical-align: top;\n",
       "    }\n",
       "\n",
       "    .dataframe thead th {\n",
       "        text-align: right;\n",
       "    }\n",
       "</style>\n",
       "<table border=\"1\" class=\"dataframe\">\n",
       "  <thead>\n",
       "    <tr style=\"text-align: right;\">\n",
       "      <th></th>\n",
       "      <th>latitude</th>\n",
       "      <th>longitude</th>\n",
       "      <th>depth</th>\n",
       "      <th>mag</th>\n",
       "      <th>nst</th>\n",
       "      <th>gap</th>\n",
       "      <th>dmin</th>\n",
       "      <th>rms</th>\n",
       "      <th>horizontalError</th>\n",
       "      <th>depthError</th>\n",
       "      <th>magError</th>\n",
       "      <th>magNst</th>\n",
       "    </tr>\n",
       "  </thead>\n",
       "  <tbody>\n",
       "    <tr>\n",
       "      <th>count</th>\n",
       "      <td>52887.000000</td>\n",
       "      <td>52887.000000</td>\n",
       "      <td>52887.000000</td>\n",
       "      <td>52887.000000</td>\n",
       "      <td>399.000000</td>\n",
       "      <td>52039.000000</td>\n",
       "      <td>51994.000000</td>\n",
       "      <td>52887.000000</td>\n",
       "      <td>52445.000000</td>\n",
       "      <td>52887.000000</td>\n",
       "      <td>51111.000000</td>\n",
       "      <td>51314.000000</td>\n",
       "    </tr>\n",
       "    <tr>\n",
       "      <th>mean</th>\n",
       "      <td>1.919573</td>\n",
       "      <td>33.871955</td>\n",
       "      <td>94.093153</td>\n",
       "      <td>4.527226</td>\n",
       "      <td>44.784461</td>\n",
       "      <td>110.642594</td>\n",
       "      <td>3.707592</td>\n",
       "      <td>0.826574</td>\n",
       "      <td>8.743910</td>\n",
       "      <td>5.446265</td>\n",
       "      <td>0.121050</td>\n",
       "      <td>42.242312</td>\n",
       "    </tr>\n",
       "    <tr>\n",
       "      <th>std</th>\n",
       "      <td>28.957996</td>\n",
       "      <td>124.365103</td>\n",
       "      <td>147.825720</td>\n",
       "      <td>0.398573</td>\n",
       "      <td>33.195457</td>\n",
       "      <td>51.058646</td>\n",
       "      <td>4.734222</td>\n",
       "      <td>0.263079</td>\n",
       "      <td>3.661015</td>\n",
       "      <td>4.203604</td>\n",
       "      <td>0.065051</td>\n",
       "      <td>61.356488</td>\n",
       "    </tr>\n",
       "    <tr>\n",
       "      <th>min</th>\n",
       "      <td>-79.983700</td>\n",
       "      <td>-179.998600</td>\n",
       "      <td>-1.010000</td>\n",
       "      <td>4.000000</td>\n",
       "      <td>4.000000</td>\n",
       "      <td>7.000000</td>\n",
       "      <td>0.000000</td>\n",
       "      <td>0.000000</td>\n",
       "      <td>0.000000</td>\n",
       "      <td>0.000000</td>\n",
       "      <td>0.000000</td>\n",
       "      <td>0.000000</td>\n",
       "    </tr>\n",
       "    <tr>\n",
       "      <th>25%</th>\n",
       "      <td>-19.487300</td>\n",
       "      <td>-74.501800</td>\n",
       "      <td>10.000000</td>\n",
       "      <td>4.300000</td>\n",
       "      <td>23.000000</td>\n",
       "      <td>73.000000</td>\n",
       "      <td>1.170000</td>\n",
       "      <td>0.650000</td>\n",
       "      <td>6.300000</td>\n",
       "      <td>1.900000</td>\n",
       "      <td>0.073000</td>\n",
       "      <td>12.000000</td>\n",
       "    </tr>\n",
       "    <tr>\n",
       "      <th>50%</th>\n",
       "      <td>-3.314000</td>\n",
       "      <td>93.835300</td>\n",
       "      <td>33.700000</td>\n",
       "      <td>4.500000</td>\n",
       "      <td>36.000000</td>\n",
       "      <td>105.000000</td>\n",
       "      <td>2.379000</td>\n",
       "      <td>0.810000</td>\n",
       "      <td>8.200000</td>\n",
       "      <td>4.800000</td>\n",
       "      <td>0.112000</td>\n",
       "      <td>21.000000</td>\n",
       "    </tr>\n",
       "    <tr>\n",
       "      <th>75%</th>\n",
       "      <td>24.315950</td>\n",
       "      <td>141.894850</td>\n",
       "      <td>105.975000</td>\n",
       "      <td>4.700000</td>\n",
       "      <td>61.500000</td>\n",
       "      <td>142.000000</td>\n",
       "      <td>4.395000</td>\n",
       "      <td>0.990000</td>\n",
       "      <td>10.800000</td>\n",
       "      <td>7.900000</td>\n",
       "      <td>0.153000</td>\n",
       "      <td>45.000000</td>\n",
       "    </tr>\n",
       "    <tr>\n",
       "      <th>max</th>\n",
       "      <td>86.996400</td>\n",
       "      <td>179.999300</td>\n",
       "      <td>690.950000</td>\n",
       "      <td>8.200000</td>\n",
       "      <td>289.000000</td>\n",
       "      <td>346.000000</td>\n",
       "      <td>62.626000</td>\n",
       "      <td>2.530000</td>\n",
       "      <td>51.700000</td>\n",
       "      <td>69.300000</td>\n",
       "      <td>1.000000</td>\n",
       "      <td>941.000000</td>\n",
       "    </tr>\n",
       "  </tbody>\n",
       "</table>\n",
       "</div>"
      ],
      "text/plain": [
       "           latitude     longitude         depth           mag         nst  \\\n",
       "count  52887.000000  52887.000000  52887.000000  52887.000000  399.000000   \n",
       "mean       1.919573     33.871955     94.093153      4.527226   44.784461   \n",
       "std       28.957996    124.365103    147.825720      0.398573   33.195457   \n",
       "min      -79.983700   -179.998600     -1.010000      4.000000    4.000000   \n",
       "25%      -19.487300    -74.501800     10.000000      4.300000   23.000000   \n",
       "50%       -3.314000     93.835300     33.700000      4.500000   36.000000   \n",
       "75%       24.315950    141.894850    105.975000      4.700000   61.500000   \n",
       "max       86.996400    179.999300    690.950000      8.200000  289.000000   \n",
       "\n",
       "                gap          dmin           rms  horizontalError  \\\n",
       "count  52039.000000  51994.000000  52887.000000     52445.000000   \n",
       "mean     110.642594      3.707592      0.826574         8.743910   \n",
       "std       51.058646      4.734222      0.263079         3.661015   \n",
       "min        7.000000      0.000000      0.000000         0.000000   \n",
       "25%       73.000000      1.170000      0.650000         6.300000   \n",
       "50%      105.000000      2.379000      0.810000         8.200000   \n",
       "75%      142.000000      4.395000      0.990000        10.800000   \n",
       "max      346.000000     62.626000      2.530000        51.700000   \n",
       "\n",
       "         depthError      magError        magNst  \n",
       "count  52887.000000  51111.000000  51314.000000  \n",
       "mean       5.446265      0.121050     42.242312  \n",
       "std        4.203604      0.065051     61.356488  \n",
       "min        0.000000      0.000000      0.000000  \n",
       "25%        1.900000      0.073000     12.000000  \n",
       "50%        4.800000      0.112000     21.000000  \n",
       "75%        7.900000      0.153000     45.000000  \n",
       "max       69.300000      1.000000    941.000000  "
      ]
     },
     "execution_count": 3,
     "metadata": {},
     "output_type": "execute_result"
    }
   ],
   "source": [
    "df.describe()"
   ]
  },
  {
   "cell_type": "markdown",
   "metadata": {},
   "source": [
    "Question 2: Get the top 10 earthquakes by magnitude "
   ]
  },
  {
   "cell_type": "code",
   "execution_count": 4,
   "metadata": {
    "scrolled": true
   },
   "outputs": [
    {
     "data": {
      "text/html": [
       "<div>\n",
       "<style scoped>\n",
       "    .dataframe tbody tr th:only-of-type {\n",
       "        vertical-align: middle;\n",
       "    }\n",
       "\n",
       "    .dataframe tbody tr th {\n",
       "        vertical-align: top;\n",
       "    }\n",
       "\n",
       "    .dataframe thead th {\n",
       "        text-align: right;\n",
       "    }\n",
       "</style>\n",
       "<table border=\"1\" class=\"dataframe\">\n",
       "  <thead>\n",
       "    <tr style=\"text-align: right;\">\n",
       "      <th></th>\n",
       "      <th>time</th>\n",
       "      <th>latitude</th>\n",
       "      <th>longitude</th>\n",
       "      <th>depth</th>\n",
       "      <th>mag</th>\n",
       "      <th>magType</th>\n",
       "      <th>nst</th>\n",
       "      <th>gap</th>\n",
       "      <th>dmin</th>\n",
       "      <th>rms</th>\n",
       "      <th>...</th>\n",
       "      <th>updated</th>\n",
       "      <th>place</th>\n",
       "      <th>type</th>\n",
       "      <th>horizontalError</th>\n",
       "      <th>depthError</th>\n",
       "      <th>magError</th>\n",
       "      <th>magNst</th>\n",
       "      <th>status</th>\n",
       "      <th>locationSource</th>\n",
       "      <th>magSource</th>\n",
       "    </tr>\n",
       "  </thead>\n",
       "  <tbody>\n",
       "    <tr>\n",
       "      <th>4490</th>\n",
       "      <td>2017-09-08T04:49:19.180Z</td>\n",
       "      <td>15.0222</td>\n",
       "      <td>-93.8993</td>\n",
       "      <td>47.39</td>\n",
       "      <td>8.2</td>\n",
       "      <td>mww</td>\n",
       "      <td>NaN</td>\n",
       "      <td>22.0</td>\n",
       "      <td>0.944</td>\n",
       "      <td>1.22</td>\n",
       "      <td>...</td>\n",
       "      <td>2019-09-12T03:25:23.535Z</td>\n",
       "      <td>101km SSW of Tres Picos, Mexico</td>\n",
       "      <td>earthquake</td>\n",
       "      <td>6.2</td>\n",
       "      <td>3.7</td>\n",
       "      <td>0.058</td>\n",
       "      <td>29.0</td>\n",
       "      <td>reviewed</td>\n",
       "      <td>us</td>\n",
       "      <td>us</td>\n",
       "    </tr>\n",
       "    <tr>\n",
       "      <th>6200</th>\n",
       "      <td>2018-08-19T00:19:40.670Z</td>\n",
       "      <td>-18.1125</td>\n",
       "      <td>-178.1530</td>\n",
       "      <td>600.00</td>\n",
       "      <td>8.2</td>\n",
       "      <td>mww</td>\n",
       "      <td>NaN</td>\n",
       "      <td>13.0</td>\n",
       "      <td>3.630</td>\n",
       "      <td>0.79</td>\n",
       "      <td>...</td>\n",
       "      <td>2019-08-19T06:18:42.402Z</td>\n",
       "      <td>286km NNE of Ndoi Island, Fiji</td>\n",
       "      <td>earthquake</td>\n",
       "      <td>9.6</td>\n",
       "      <td>1.9</td>\n",
       "      <td>0.045</td>\n",
       "      <td>47.0</td>\n",
       "      <td>reviewed</td>\n",
       "      <td>us</td>\n",
       "      <td>us</td>\n",
       "    </tr>\n",
       "    <tr>\n",
       "      <th>4534</th>\n",
       "      <td>2019-05-26T07:41:15.073Z</td>\n",
       "      <td>-5.8119</td>\n",
       "      <td>-75.2697</td>\n",
       "      <td>122.57</td>\n",
       "      <td>8.0</td>\n",
       "      <td>mww</td>\n",
       "      <td>NaN</td>\n",
       "      <td>17.0</td>\n",
       "      <td>3.180</td>\n",
       "      <td>0.84</td>\n",
       "      <td>...</td>\n",
       "      <td>2019-10-20T00:29:23.662Z</td>\n",
       "      <td>78km SE of Lagunas, Peru</td>\n",
       "      <td>earthquake</td>\n",
       "      <td>7.0</td>\n",
       "      <td>4.0</td>\n",
       "      <td>0.036</td>\n",
       "      <td>75.0</td>\n",
       "      <td>reviewed</td>\n",
       "      <td>us</td>\n",
       "      <td>us</td>\n",
       "    </tr>\n",
       "    <tr>\n",
       "      <th>13767</th>\n",
       "      <td>2018-01-23T09:31:40.890Z</td>\n",
       "      <td>56.0039</td>\n",
       "      <td>-149.1658</td>\n",
       "      <td>14.06</td>\n",
       "      <td>7.9</td>\n",
       "      <td>mww</td>\n",
       "      <td>NaN</td>\n",
       "      <td>30.0</td>\n",
       "      <td>2.585</td>\n",
       "      <td>0.77</td>\n",
       "      <td>...</td>\n",
       "      <td>2019-07-01T15:34:15.502Z</td>\n",
       "      <td>280km SE of Kodiak, Alaska</td>\n",
       "      <td>earthquake</td>\n",
       "      <td>6.0</td>\n",
       "      <td>2.8</td>\n",
       "      <td>0.034</td>\n",
       "      <td>81.0</td>\n",
       "      <td>reviewed</td>\n",
       "      <td>us</td>\n",
       "      <td>us</td>\n",
       "    </tr>\n",
       "    <tr>\n",
       "      <th>5112</th>\n",
       "      <td>2018-09-06T15:49:18.710Z</td>\n",
       "      <td>-18.4743</td>\n",
       "      <td>179.3502</td>\n",
       "      <td>670.81</td>\n",
       "      <td>7.9</td>\n",
       "      <td>mww</td>\n",
       "      <td>NaN</td>\n",
       "      <td>12.0</td>\n",
       "      <td>1.431</td>\n",
       "      <td>1.07</td>\n",
       "      <td>...</td>\n",
       "      <td>2019-04-23T04:45:27.592Z</td>\n",
       "      <td>102km ESE of Suva, Fiji</td>\n",
       "      <td>earthquake</td>\n",
       "      <td>9.5</td>\n",
       "      <td>2.8</td>\n",
       "      <td>0.025</td>\n",
       "      <td>157.0</td>\n",
       "      <td>reviewed</td>\n",
       "      <td>us</td>\n",
       "      <td>us</td>\n",
       "    </tr>\n",
       "    <tr>\n",
       "      <th>12276</th>\n",
       "      <td>2017-01-22T04:30:22.960Z</td>\n",
       "      <td>-6.2464</td>\n",
       "      <td>155.1718</td>\n",
       "      <td>135.00</td>\n",
       "      <td>7.9</td>\n",
       "      <td>mww</td>\n",
       "      <td>NaN</td>\n",
       "      <td>9.0</td>\n",
       "      <td>3.625</td>\n",
       "      <td>1.22</td>\n",
       "      <td>...</td>\n",
       "      <td>2018-10-17T21:53:19.164Z</td>\n",
       "      <td>35km WNW of Panguna, Papua New Guinea</td>\n",
       "      <td>earthquake</td>\n",
       "      <td>7.3</td>\n",
       "      <td>1.8</td>\n",
       "      <td>0.042</td>\n",
       "      <td>54.0</td>\n",
       "      <td>reviewed</td>\n",
       "      <td>us</td>\n",
       "      <td>us</td>\n",
       "    </tr>\n",
       "    <tr>\n",
       "      <th>771</th>\n",
       "      <td>2016-12-17T10:51:10.500Z</td>\n",
       "      <td>-4.5049</td>\n",
       "      <td>153.5216</td>\n",
       "      <td>94.54</td>\n",
       "      <td>7.9</td>\n",
       "      <td>mww</td>\n",
       "      <td>NaN</td>\n",
       "      <td>13.0</td>\n",
       "      <td>1.389</td>\n",
       "      <td>0.97</td>\n",
       "      <td>...</td>\n",
       "      <td>2018-10-17T21:50:55.380Z</td>\n",
       "      <td>54km E of Taron, Papua New Guinea</td>\n",
       "      <td>earthquake</td>\n",
       "      <td>7.3</td>\n",
       "      <td>3.8</td>\n",
       "      <td>NaN</td>\n",
       "      <td>NaN</td>\n",
       "      <td>reviewed</td>\n",
       "      <td>us</td>\n",
       "      <td>us</td>\n",
       "    </tr>\n",
       "    <tr>\n",
       "      <th>11266</th>\n",
       "      <td>2016-04-16T23:58:36.980Z</td>\n",
       "      <td>0.3819</td>\n",
       "      <td>-79.9218</td>\n",
       "      <td>20.59</td>\n",
       "      <td>7.8</td>\n",
       "      <td>mww</td>\n",
       "      <td>NaN</td>\n",
       "      <td>15.0</td>\n",
       "      <td>1.440</td>\n",
       "      <td>0.94</td>\n",
       "      <td>...</td>\n",
       "      <td>2019-10-15T14:06:57.770Z</td>\n",
       "      <td>27km SSE of Muisne, Ecuador</td>\n",
       "      <td>earthquake</td>\n",
       "      <td>5.7</td>\n",
       "      <td>3.2</td>\n",
       "      <td>NaN</td>\n",
       "      <td>NaN</td>\n",
       "      <td>reviewed</td>\n",
       "      <td>us</td>\n",
       "      <td>us</td>\n",
       "    </tr>\n",
       "    <tr>\n",
       "      <th>1317</th>\n",
       "      <td>2016-12-08T17:38:46.280Z</td>\n",
       "      <td>-10.6812</td>\n",
       "      <td>161.3273</td>\n",
       "      <td>40.00</td>\n",
       "      <td>7.8</td>\n",
       "      <td>mww</td>\n",
       "      <td>NaN</td>\n",
       "      <td>13.0</td>\n",
       "      <td>1.836</td>\n",
       "      <td>0.88</td>\n",
       "      <td>...</td>\n",
       "      <td>2018-10-17T21:50:46.404Z</td>\n",
       "      <td>69km WSW of Kirakira, Solomon Islands</td>\n",
       "      <td>earthquake</td>\n",
       "      <td>8.3</td>\n",
       "      <td>1.8</td>\n",
       "      <td>NaN</td>\n",
       "      <td>NaN</td>\n",
       "      <td>reviewed</td>\n",
       "      <td>us</td>\n",
       "      <td>us</td>\n",
       "    </tr>\n",
       "    <tr>\n",
       "      <th>13075</th>\n",
       "      <td>2016-03-02T12:49:48.110Z</td>\n",
       "      <td>-4.9521</td>\n",
       "      <td>94.3299</td>\n",
       "      <td>24.00</td>\n",
       "      <td>7.8</td>\n",
       "      <td>mww</td>\n",
       "      <td>NaN</td>\n",
       "      <td>20.0</td>\n",
       "      <td>7.009</td>\n",
       "      <td>1.14</td>\n",
       "      <td>...</td>\n",
       "      <td>2018-12-04T22:30:13.007Z</td>\n",
       "      <td>Southwest of Sumatra, Indonesia</td>\n",
       "      <td>earthquake</td>\n",
       "      <td>7.5</td>\n",
       "      <td>1.8</td>\n",
       "      <td>NaN</td>\n",
       "      <td>NaN</td>\n",
       "      <td>reviewed</td>\n",
       "      <td>us</td>\n",
       "      <td>us</td>\n",
       "    </tr>\n",
       "  </tbody>\n",
       "</table>\n",
       "<p>10 rows × 22 columns</p>\n",
       "</div>"
      ],
      "text/plain": [
       "                           time  latitude  longitude   depth  mag magType  \\\n",
       "4490   2017-09-08T04:49:19.180Z   15.0222   -93.8993   47.39  8.2     mww   \n",
       "6200   2018-08-19T00:19:40.670Z  -18.1125  -178.1530  600.00  8.2     mww   \n",
       "4534   2019-05-26T07:41:15.073Z   -5.8119   -75.2697  122.57  8.0     mww   \n",
       "13767  2018-01-23T09:31:40.890Z   56.0039  -149.1658   14.06  7.9     mww   \n",
       "5112   2018-09-06T15:49:18.710Z  -18.4743   179.3502  670.81  7.9     mww   \n",
       "12276  2017-01-22T04:30:22.960Z   -6.2464   155.1718  135.00  7.9     mww   \n",
       "771    2016-12-17T10:51:10.500Z   -4.5049   153.5216   94.54  7.9     mww   \n",
       "11266  2016-04-16T23:58:36.980Z    0.3819   -79.9218   20.59  7.8     mww   \n",
       "1317   2016-12-08T17:38:46.280Z  -10.6812   161.3273   40.00  7.8     mww   \n",
       "13075  2016-03-02T12:49:48.110Z   -4.9521    94.3299   24.00  7.8     mww   \n",
       "\n",
       "       nst   gap   dmin   rms  ...                   updated  \\\n",
       "4490   NaN  22.0  0.944  1.22  ...  2019-09-12T03:25:23.535Z   \n",
       "6200   NaN  13.0  3.630  0.79  ...  2019-08-19T06:18:42.402Z   \n",
       "4534   NaN  17.0  3.180  0.84  ...  2019-10-20T00:29:23.662Z   \n",
       "13767  NaN  30.0  2.585  0.77  ...  2019-07-01T15:34:15.502Z   \n",
       "5112   NaN  12.0  1.431  1.07  ...  2019-04-23T04:45:27.592Z   \n",
       "12276  NaN   9.0  3.625  1.22  ...  2018-10-17T21:53:19.164Z   \n",
       "771    NaN  13.0  1.389  0.97  ...  2018-10-17T21:50:55.380Z   \n",
       "11266  NaN  15.0  1.440  0.94  ...  2019-10-15T14:06:57.770Z   \n",
       "1317   NaN  13.0  1.836  0.88  ...  2018-10-17T21:50:46.404Z   \n",
       "13075  NaN  20.0  7.009  1.14  ...  2018-12-04T22:30:13.007Z   \n",
       "\n",
       "                                       place        type horizontalError  \\\n",
       "4490         101km SSW of Tres Picos, Mexico  earthquake             6.2   \n",
       "6200          286km NNE of Ndoi Island, Fiji  earthquake             9.6   \n",
       "4534                78km SE of Lagunas, Peru  earthquake             7.0   \n",
       "13767             280km SE of Kodiak, Alaska  earthquake             6.0   \n",
       "5112                 102km ESE of Suva, Fiji  earthquake             9.5   \n",
       "12276  35km WNW of Panguna, Papua New Guinea  earthquake             7.3   \n",
       "771        54km E of Taron, Papua New Guinea  earthquake             7.3   \n",
       "11266            27km SSE of Muisne, Ecuador  earthquake             5.7   \n",
       "1317   69km WSW of Kirakira, Solomon Islands  earthquake             8.3   \n",
       "13075        Southwest of Sumatra, Indonesia  earthquake             7.5   \n",
       "\n",
       "      depthError  magError  magNst    status  locationSource magSource  \n",
       "4490         3.7     0.058    29.0  reviewed              us        us  \n",
       "6200         1.9     0.045    47.0  reviewed              us        us  \n",
       "4534         4.0     0.036    75.0  reviewed              us        us  \n",
       "13767        2.8     0.034    81.0  reviewed              us        us  \n",
       "5112         2.8     0.025   157.0  reviewed              us        us  \n",
       "12276        1.8     0.042    54.0  reviewed              us        us  \n",
       "771          3.8       NaN     NaN  reviewed              us        us  \n",
       "11266        3.2       NaN     NaN  reviewed              us        us  \n",
       "1317         1.8       NaN     NaN  reviewed              us        us  \n",
       "13075        1.8       NaN     NaN  reviewed              us        us  \n",
       "\n",
       "[10 rows x 22 columns]"
      ]
     },
     "execution_count": 4,
     "metadata": {},
     "output_type": "execute_result"
    }
   ],
   "source": [
    "df.sort_values(by=['mag'],ascending=False).head(10)"
   ]
  },
  {
   "cell_type": "markdown",
   "metadata": {},
   "source": [
    " question 3: Handle all Null/empty data by filling it with zeros"
   ]
  },
  {
   "cell_type": "code",
   "execution_count": 5,
   "metadata": {},
   "outputs": [],
   "source": [
    "df = df.fillna(0)\n",
    "df['time'] = pd.to_datetime(df['time'], errors='coerce')"
   ]
  },
  {
   "cell_type": "markdown",
   "metadata": {},
   "source": [
    "Question 4: Find the top 10 places where the strongest earthquakes occurred "
   ]
  },
  {
   "cell_type": "code",
   "execution_count": 6,
   "metadata": {},
   "outputs": [
    {
     "data": {
      "text/plain": [
       "6267              San Pedro de Atacama, Chile\n",
       "3030                Owen Fracture Zone region\n",
       "4430                             Akita, Japan\n",
       "6796     New Britain region, Papua New Guinea\n",
       "3037                        Colchani, Bolivia\n",
       "13145                   Amukta Island, Alaska\n",
       "2517                        Jarm, Afghanistan\n",
       "8191                       Port Hardy, Canada\n",
       "6832                   Kawangohari, Indonesia\n",
       "13127                    Shughnon, Tajikistan\n",
       "Name: place, dtype: object"
      ]
     },
     "execution_count": 6,
     "metadata": {},
     "output_type": "execute_result"
    }
   ],
   "source": [
    "df.sort_values(by=['mag'],ascending=True)['place'].apply(lambda x: x[x.index(\"of \")+3:] if \"of \" in x else x ).head(10)"
   ]
  },
  {
   "cell_type": "markdown",
   "metadata": {},
   "source": [
    "Question 5: Find the top 10 places where the weakest earthquakes occurred "
   ]
  },
  {
   "cell_type": "code",
   "execution_count": 7,
   "metadata": {},
   "outputs": [
    {
     "data": {
      "text/plain": [
       "4490            Tres Picos, Mexico\n",
       "6200             Ndoi Island, Fiji\n",
       "4534                 Lagunas, Peru\n",
       "13767               Kodiak, Alaska\n",
       "5112                    Suva, Fiji\n",
       "12276    Panguna, Papua New Guinea\n",
       "771        Taron, Papua New Guinea\n",
       "11266              Muisne, Ecuador\n",
       "1317     Kirakira, Solomon Islands\n",
       "13075           Sumatra, Indonesia\n",
       "Name: place, dtype: object"
      ]
     },
     "execution_count": 7,
     "metadata": {},
     "output_type": "execute_result"
    }
   ],
   "source": [
    "df.sort_values(by=['mag'],ascending=False)['place'].apply(lambda x: x[x.index(\"of \")+3:] if \"of \" in x else x ).head(10)"
   ]
  },
  {
   "cell_type": "markdown",
   "metadata": {},
   "source": [
    "Question 6: On a per-year basis, use a bar chart to plot the number of earthquakes for each of the following magnitude groups ranges:  Group 1: [4,4.5), Group 2: [4.5,5), Group 3: [5,6), Group 4: [6,7), Group 5: (7,MAX]. Pay close attention to the group ranges. "
   ]
  },
  {
   "cell_type": "code",
   "execution_count": 8,
   "metadata": {
    "scrolled": true
   },
   "outputs": [
    {
     "data": {
      "text/plain": [
       "<matplotlib.axes._subplots.AxesSubplot at 0x1d0a0255e48>"
      ]
     },
     "execution_count": 8,
     "metadata": {},
     "output_type": "execute_result"
    },
    {
     "data": {
      "image/png": "[encoded data removed]",
      "text/plain": [
       "<Figure size 432x288 with 1 Axes>"
      ]
     },
     "metadata": {
      "needs_background": "light"
     },
     "output_type": "display_data"
    }
   ],
   "source": [
    "bins= [4,4.5,5,6,7,10]\n",
    "labels= [\"Group 1\",\"Group 2\",\"Group 3\",\"Group 4\", \"Group 5\"]\n",
    "bar = df['mag'].groupby(pd.cut(df['mag'], bins=bins, labels=labels, right=False)).count()\n",
    "bar.plot(kind='bar')\n"
   ]
  },
  {
   "cell_type": "markdown",
   "metadata": {},
   "source": [
    "Question 7: Find the 10 countries with the highest number of earthquakes"
   ]
  },
  {
   "cell_type": "code",
   "execution_count": 9,
   "metadata": {},
   "outputs": [
    {
     "data": {
      "text/plain": [
       "country\n",
       "Indonesia           6553\n",
       "Japan               3413\n",
       "Papua New Guinea    3084\n",
       "Fiji                2524\n",
       "New Zealand         2389\n",
       "Chile               2284\n",
       "Philippines         2083\n",
       "Alaska              1834\n",
       "Russia              1756\n",
       "Tonga               1563\n",
       "Name: mag, dtype: int64"
      ]
     },
     "execution_count": 9,
     "metadata": {},
     "output_type": "execute_result"
    }
   ],
   "source": [
    "df['country']=df['place'].apply(lambda x: x[x.index(\", \")+2:] if \", \" in x else x )\n",
    "df.groupby('country').count().sort_values(by=['mag'],ascending=False)['mag'].head(10)"
   ]
  },
  {
   "cell_type": "markdown",
   "metadata": {},
   "source": [
    "Question 8: Analyze the distribution of the Earthquake magnitudes. This is, make a histogram of the Earthquake count versus magnitude. Make sure to use a Logarithmic scale. What sort of relationship do you see? "
   ]
  },
  {
   "cell_type": "code",
   "execution_count": 10,
   "metadata": {},
   "outputs": [
    {
     "data": {
      "text/plain": [
       "(array([2.6224e+04, 1.7971e+04, 5.9590e+03, 1.6890e+03, 6.5400e+02,\n",
       "        2.6300e+02, 7.8000e+01, 2.8000e+01, 1.0000e+01, 1.1000e+01]),\n",
       " array([4.  , 4.42, 4.84, 5.26, 5.68, 6.1 , 6.52, 6.94, 7.36, 7.78, 8.2 ]),\n",
       " <a list of 10 Patch objects>)"
      ]
     },
     "execution_count": 10,
     "metadata": {},
     "output_type": "execute_result"
    },
    {
     "data": {
      "image/png": "[encoded data removed]",
      "text/plain": [
       "<Figure size 432x288 with 1 Axes>"
      ]
     },
     "metadata": {
      "needs_background": "light"
     },
     "output_type": "display_data"
    }
   ],
   "source": [
    "plt.hist(df['mag'], log=True) \n"
   ]
  },
  {
   "cell_type": "markdown",
   "metadata": {},
   "source": [
    "Question 9:  Analyze the distribution of the Earthquake depths. This is, make a histogram of the Earthquake count versus depth. Make sure to use a Logarithmic scale. What sort of relationship do you see"
   ]
  },
  {
   "cell_type": "code",
   "execution_count": 11,
   "metadata": {},
   "outputs": [
    {
     "data": {
      "text/plain": [
       "(array([36008.,  6559.,  3799.,  1494.,   448.,   528.,   489.,  1688.,\n",
       "         1655.,   219.]),\n",
       " array([ -1.01 ,  68.186, 137.382, 206.578, 275.774, 344.97 , 414.166,\n",
       "        483.362, 552.558, 621.754, 690.95 ]),\n",
       " <a list of 10 Patch objects>)"
      ]
     },
     "execution_count": 11,
     "metadata": {},
     "output_type": "execute_result"
    },
    {
     "data": {
      "image/png": "[encoded data removed]",
      "text/plain": [
       "<Figure size 432x288 with 1 Axes>"
      ]
     },
     "metadata": {
      "needs_background": "light"
     },
     "output_type": "display_data"
    }
   ],
   "source": [
    "plt.hist(df['depth'], log=True) \n"
   ]
  },
  {
   "cell_type": "markdown",
   "metadata": {},
   "source": [
    "Question 10: Visualize the locations of earthquakes by making a scatterplot of their latitude and longitude."
   ]
  },
  {
   "cell_type": "code",
   "execution_count": 12,
   "metadata": {},
   "outputs": [
    {
     "data": {
      "text/plain": [
       "<matplotlib.axes._subplots.AxesSubplot at 0x1d09e678a20>"
      ]
     },
     "execution_count": 12,
     "metadata": {},
     "output_type": "execute_result"
    },
    {
     "data": {
      "image/png": "[encoded data removed]",
      "text/plain": [
       "<Figure size 432x288 with 1 Axes>"
      ]
     },
     "metadata": {
      "needs_background": "light"
     },
     "output_type": "display_data"
    }
   ],
   "source": [
    "df.plot.scatter(x='latitude',y='longitude',c='DarkBlue')"
   ]
  },
  {
   "cell_type": "markdown",
   "metadata": {},
   "source": [
    "# Graduate Student Questions"
   ]
  },
  {
   "cell_type": "markdown",
   "metadata": {},
   "source": [
    "Question 11:  Using the US package (https://pypi.org/project/us/), clean the dataset you used previously to only have data from the US"
   ]
  },
  {
   "cell_type": "code",
   "execution_count": 13,
   "metadata": {},
   "outputs": [],
   "source": [
    "def get_state(item):\n",
    "    return us.states.lookup(item) \n",
    "df['state_usa']=df['country'].map(get_state)\n",
    "df2=df[df.state_usa.notnull()]"
   ]
  },
  {
   "cell_type": "markdown",
   "metadata": {},
   "source": [
    "Question 12: Find the top 10 US states where the strongest earthquakes occurred (10 points) b) On a per-year basis, use a bar chart to plot the number of earthquakes for each of the following magnitude groups ranges: Group 1: [4,4.5), Group 2: [4.5,5), Group 3: [5,6), Group 4: [6,7), Group 5: (7,MAX]. Pay close attention to the group ranges. Please add labels and colors to the plot. c) Visualize the locations of earthquakes by making a scatterplot of their latitude and longitude. Overlay a US map on top of this plot to match the locations. Please add labels and colors to the plot"
   ]
  },
  {
   "cell_type": "code",
   "execution_count": 14,
   "metadata": {},
   "outputs": [
    {
     "data": {
      "text/plain": [
       "13767                      Alaska\n",
       "7093     Northern Mariana Islands\n",
       "14521                      Alaska\n",
       "1408                       Alaska\n",
       "9994                       Hawaii\n",
       "7813                       Alaska\n",
       "1324                   California\n",
       "3099                       Alaska\n",
       "6332                       Alaska\n",
       "6437                       Alaska\n",
       "Name: state_usa, dtype: object"
      ]
     },
     "execution_count": 14,
     "metadata": {},
     "output_type": "execute_result"
    }
   ],
   "source": [
    "## 12 a\n",
    "df2.sort_values(by=['mag'],ascending=False)['state_usa'].head(10)"
   ]
  },
  {
   "cell_type": "code",
   "execution_count": 15,
   "metadata": {},
   "outputs": [
    {
     "data": {
      "text/plain": [
       "<matplotlib.axes._subplots.AxesSubplot at 0x1d0a0651470>"
      ]
     },
     "execution_count": 15,
     "metadata": {},
     "output_type": "execute_result"
    },
    {
     "data": {
      "image/png": "[encoded data removed]",
      "text/plain": [
       "<Figure size 432x288 with 1 Axes>"
      ]
     },
     "metadata": {
      "needs_background": "light"
     },
     "output_type": "display_data"
    }
   ],
   "source": [
    "## 12 c\n",
    "df2.plot.scatter(x='latitude',y='longitude',c='DarkBlue')"
   ]
  },
  {
   "cell_type": "code",
   "execution_count": 16,
   "metadata": {},
   "outputs": [
    {
     "data": {
      "text/plain": [
       "<matplotlib.axes._subplots.AxesSubplot at 0x1d0a0676e80>"
      ]
     },
     "execution_count": 16,
     "metadata": {},
     "output_type": "execute_result"
    },
    {
     "data": {
      "image/png": "[encoded data removed]",
      "text/plain": [
       "<Figure size 432x288 with 1 Axes>"
      ]
     },
     "metadata": {
      "needs_background": "light"
     },
     "output_type": "display_data"
    }
   ],
   "source": [
    "## 12 b\n",
    "bar2 = df2['mag'].groupby(pd.cut(df2['mag'], bins=bins, labels=labels, right=False)).count()\n",
    "bar2.plot(kind='bar')"
   ]
  },
  {
   "cell_type": "code",
   "execution_count": null,
   "metadata": {},
   "outputs": [],
   "source": []
  }
 ],
 "metadata": {
  "kernelspec": {
   "display_name": "Python 3",
   "language": "python",
   "name": "python3"
  },
  "language_info": {
   "codemirror_mode": {
    "name": "ipython",
    "version": 3
   },
   "file_extension": ".py",
   "mimetype": "text/x-python",
   "name": "python",
   "nbconvert_exporter": "python",
   "pygments_lexer": "ipython3",
   "version": "3.7.3"
  }
 },
 "nbformat": 4,
 "nbformat_minor": 2
}
