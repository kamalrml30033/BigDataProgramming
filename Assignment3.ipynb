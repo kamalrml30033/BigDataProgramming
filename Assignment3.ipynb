{
 "cells": [
  {
   "cell_type": "code",
   "execution_count": 2,
   "metadata": {},
   "outputs": [],
   "source": [
    "import sqlite3"
   ]
  },
  {
   "cell_type": "code",
   "execution_count": 3,
   "metadata": {},
   "outputs": [],
   "source": [
    "conn = sqlite3.connect('database.sqlite')"
   ]
  },
  {
   "cell_type": "code",
   "execution_count": 4,
   "metadata": {},
   "outputs": [],
   "source": [
    "cursor= conn.cursor()"
   ]
  },
  {
   "cell_type": "code",
   "execution_count": null,
   "metadata": {},
   "outputs": [],
   "source": [
    "cursor.execute(\"SELECT name FROM sqlite_master WHERE type='table';\")\n",
    "print('Tables:', [t[0] for t in cursor.fetchall()])"
   ]
  },
  {
   "cell_type": "markdown",
   "metadata": {},
   "source": [
    "# Question 1. Players born between 1987 to 1990"
   ]
  },
  {
   "cell_type": "code",
   "execution_count": null,
   "metadata": {},
   "outputs": [],
   "source": [
    "print(' Players Name, Birthday')\n",
    "print('-'*40)\n",
    "qry1 = f'SELECT ROW_NUMBER() OVER (ORDER BY date(birthday)), player_name, birthday \\\n",
    "         FROM Player \\\n",
    "         WHERE birthday between  {1987} and {1990}\\\n",
    "         '\n",
    "for ix, name, bday in cursor.execute(qry1):\n",
    "    print('{},{}, {}'.format(ix, name, bday))"
   ]
  },
  {
   "cell_type": "markdown",
   "metadata": {},
   "source": [
    "# Question 2"
   ]
  },
  {
   "cell_type": "code",
   "execution_count": null,
   "metadata": {},
   "outputs": [],
   "source": [
    "print(' Country, League Name, Total Goals Scored')\n",
    "print('-'*50)\n",
    "qry2 = f'\\\n",
    "    SELECT Country.name, League.Name, SUM(Match.home_team_goal + Match.away_team_goal)\\\n",
    "        AS Goals FROM \\\n",
    "        Match INNER JOIN League \\\n",
    "        ON Match.league_id = League.id \\\n",
    "        INNER JOIN Country ON League.country_id = Country.id  \\\n",
    "        GROUP BY Country.name, League.Name\\\n",
    "        ORDER BY Goals DESC'\n",
    "for res in cursor.execute(qry2):\n",
    "    print(res)"
   ]
  },
  {
   "cell_type": "markdown",
   "metadata": {},
   "source": [
    "# Question 3"
   ]
  },
  {
   "cell_type": "code",
   "execution_count": null,
   "metadata": {},
   "outputs": [],
   "source": [
    "print(' Team Long Names, Average of Attributes')\n",
    "print('-'*50)\n",
    "qry3 = 'SELECT t.team_long_name, \\\n",
    "       (buildupplayspeed+buildUpPlayDribbling+buildUpPlayPassing+chanceCreationPassing+chanceCreationCrossing+chanceCreationShooting+defencePressure+defenceAggression+defenceTeamWidth)/9  as average \\\n",
    "FROM   team t \\\n",
    "       JOIN (SELECT team_fifa_api_id, \\\n",
    "                    team_api_id, \\\n",
    "                    Avg(buildupplayspeed) AS buildUpPlaySpeed ,\\\n",
    "                    Avg(buildUpPlayDribbling) AS buildUpPlayDribbling , \\\n",
    "                    Avg(buildUpPlayPassing) AS buildUpPlayPassing , \\\n",
    "                    Avg(chanceCreationPassing) AS chanceCreationPassing , \\\n",
    "                    Avg(chanceCreationCrossing) AS chanceCreationCrossing , \\\n",
    "                    Avg(chanceCreationShooting) AS chanceCreationShooting , \\\n",
    "                    Avg(defencePressure) AS defencePressure , \\\n",
    "                    Avg(defenceAggression) AS defenceAggression , \\\n",
    "                    Avg(defenceTeamWidth) AS defenceTeamWidth \\\n",
    "             FROM   team_attributes \\\n",
    "             GROUP  BY team_fifa_api_id, \\\n",
    "                       team_api_id) src \\\n",
    "         ON t.team_api_id = src.team_api_id \\\n",
    "            AND t.team_fifa_api_id = src.team_fifa_api_id \\\n",
    "order by average desc'\n",
    "for res in cursor.execute(qry3):print(res)\n",
    "    \n",
    "     "
   ]
  },
  {
   "cell_type": "markdown",
   "metadata": {},
   "source": [
    "# Question 4"
   ]
  },
  {
   "cell_type": "code",
   "execution_count": null,
   "metadata": {},
   "outputs": [],
   "source": [
    "print(' Team Name, Number of Players, Player Attribute Average ')\n",
    "print('-'*50)\n",
    "qry4 = f'SELECT team_long_name, AVG(overall_rating+crossing+finishing\\\n",
    "       +heading_accuracy+short_passing+volleys+dribbling+curve+free_kick_accuracy+long_passing+ball_control+acceleration)\\\n",
    "       FROM Team, Player_Attributes WHERE team_fifa_api_id = player_fifa_api_id\\\n",
    "       GROUP BY team_fifa_api_id ORDER BY\\\n",
    "       AVG(overall_rating+crossing+finishing+heading_accuracy+short_passing+volleys+dribbling+curve+free_kick_accuracy\\\n",
    "       +long_passing+ball_control+acceleration) DESC LIMIT 5'\n",
    "for res in cursor.execute(qry4):\n",
    "    print(res)"
   ]
  },
  {
   "cell_type": "markdown",
   "metadata": {},
   "source": [
    "# Question 5"
   ]
  },
  {
   "cell_type": "code",
   "execution_count": null,
   "metadata": {},
   "outputs": [],
   "source": [
    "print(' Date, Season, League Name, Goals scored')\n",
    "print('-'*70)\n",
    "qry5 = f\"SELECT Match.date, Match.season, League.Name, SUM(Match.home_team_goal + Match.away_team_goal) as Goals \\\n",
    "        FROM Match INNER JOIN LEAGUE ON Match.League_id = League.id \\\n",
    "        GROUP BY Match.Season, League.Name\"\n",
    "for res in cursor.execute(qry5):\n",
    "    print(res)"
   ]
  },
  {
   "cell_type": "markdown",
   "metadata": {},
   "source": [
    "# Graduate Student Task"
   ]
  },
  {
   "cell_type": "code",
   "execution_count": null,
   "metadata": {},
   "outputs": [],
   "source": [
    "print(' Season, League, Rank, Team Name, Goals scored')\n",
    "print('-'*65)\n",
    "qry6 = f\"SELECT Match.season, League.name, ROW_NUMBER() OVER \\\n",
    "        ( ORDER BY SUM(Match.home_team_goal + Match.away_team_goal) DESC) as \\\n",
    "        Rank,Team.team_long_name, SUM(Match.home_team_goal + Match.away_team_goal) as Goals from match JOIN League \\\n",
    "        ON Match.league_id = League.id \\\n",
    "        JOIN Team ON Team.team_api_id = Match.home_team_api_id OR Team.team_api_id = Match.away_team_api_id \\\n",
    "        WHERE Match.season ='2008/2009' GROUP BY League.name LIMit 5\"\n",
    "for res in cursor.execute(qry6):\n",
    "    print(res)"
   ]
  },
  {
   "cell_type": "code",
   "execution_count": null,
   "metadata": {},
   "outputs": [],
   "source": []
  }
 ],
 "metadata": {
  "kernelspec": {
   "display_name": "Python 3",
   "language": "python",
   "name": "python3"
  },
  "language_info": {
   "codemirror_mode": {
    "name": "ipython",
    "version": 3
   },
   "file_extension": ".py",
   "mimetype": "text/x-python",
   "name": "python",
   "nbconvert_exporter": "python",
   "pygments_lexer": "ipython3",
   "version": "3.7.3"
  }
 },
 "nbformat": 4,
 "nbformat_minor": 2
}
